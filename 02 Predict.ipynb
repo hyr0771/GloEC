{
 "cells": [
  {
   "cell_type": "markdown",
   "id": "441d9791",
   "metadata": {},
   "source": [
    "# 02 Predict\n",
    "In this step, we will demonstrate how to input the data obtained from `01 Data Process` into the model for prediction, display the final prediction results, and generate the prediction file collection."
   ]
  },
  {
   "cell_type": "markdown",
   "id": "5d797c1a",
   "metadata": {},
   "source": [
    "## Import the necessary packages\n",
    "`config_util.py` has been introduced earlier and will not be elaborated here. `model_util.py` encompasses the model architecture and runtime computation methods. `dataset_util.py` involves data processing operations during model execution, including methods for batch data retrieval and displaying intermediate results.\n",
    "<br>The aforementioned source files have all been provided, and readers can refer to them as needed."
   ]
  },
  {
   "cell_type": "code",
   "execution_count": 3,
   "id": "55b56ec9",
   "metadata": {},
   "outputs": [],
   "source": [
    "from model_util import *\n",
    "from dataset_util import *\n",
    "from config_util import Config"
   ]
  },
  {
   "cell_type": "markdown",
   "id": "d91e8363",
   "metadata": {},
   "source": [
    "## predict() method\n",
    "The `predict()` method takes a `config` class as input for prediction. Within the function, `model_index = 'ESM_06131214'` indicates the model index to be used, with the default being ESM_06131214, which corresponds to GloEC-3. `dataset_type` indicates the type of data to be predicted. Invoking the `predict()` method will automatically read the pre-trained model parameters and perform predictions using the `run()` method."
   ]
  },
  {
   "cell_type": "code",
   "execution_count": 4,
   "id": "a3e4ba6e",
   "metadata": {},
   "outputs": [],
   "source": [
    "def predict(config):\n",
    "    model_index = 'ESM_06131214'\n",
    "    label_map = get_label_map(config)\n",
    "\n",
    "    dataset_type = 'input_sample'\n",
    "    nc_data_loader = get_type_dataloader(config, label_map, type=dataset_type)\n",
    "    dataset_name = dataset_type + '_' + model_index\n",
    "\n",
    "\n",
    "    model = get_model(config, label_map, class_num=len(label_map))\n",
    "\n",
    "    model.load_state_dict(torch.load('../Save_model/' + model_index + '.pth', map_location=torch.device('cpu')))\n",
    "\n",
    "    model.eval()\n",
    "    with torch.no_grad():\n",
    "        perform_dict, name_list, predict_result = run(nc_data_loader, model, label_map, config, dataset_name=dataset_name)\n",
    "\n",
    "    print(\"-------------Show predict result---------------\")\n",
    "    print(\"entry_name           predict EC number\")\n",
    "    for i in range(len(name_list)):\n",
    "        print(name_list[i] + \"           \" + predict_result[i])\n",
    "    print(\"----------------------------------------------\")"
   ]
  },
  {
   "cell_type": "markdown",
   "id": "7620a00e",
   "metadata": {},
   "source": [
    "## run() method\n",
    "To utilize the model for prediction, you must provide `data_loader`, `model`, `label_map`, `config`, and `dataset_name`. They respectively represent the data loader, trained model, enzyme label set, relevant parameters, and the name of the dataset. The method returns prediction metrics and results."
   ]
  },
  {
   "cell_type": "code",
   "execution_count": 5,
   "id": "9c252f84",
   "metadata": {},
   "outputs": [],
   "source": [
    "def run(data_loader, model, label_map, config, dataset_name, split_area=None, label_num_dict=None):\n",
    "    # split_area label_num_dict \n",
    "    predict_probs = []\n",
    "    true_label = []\n",
    "    name_list = []\n",
    "\n",
    "    for i, (batch_esm, batch_str_label, name) in enumerate(data_loader):\n",
    "        logits = model(batch_esm)\n",
    "\n",
    "        predict_results = torch.sigmoid(logits)\n",
    "        predict_probs.extend(predict_results.tolist())\n",
    "        true_label += batch_str_label\n",
    "        name_list += name\n",
    "\n",
    "    # get predict file\n",
    "    predict_result = get_predict_file(label_map, predict_probs, true_label, name_list, config, dataset_name=dataset_name, GET_DEYAIL=False)\n",
    "\n",
    "    # compute\n",
    "    if split_area == None:\n",
    "        perform_dict = get_other_dataset_perform(label_map,\n",
    "                                                 predict_file='../Data/predict_result/' + dataset_name + '.csv')\n",
    "    else:\n",
    "        perform_dict = get_kfold_dataset_perform(label_map,\n",
    "                                                 predict_file='../Data/predict_result/' + dataset_name + '.csv',\n",
    "                                                 split_area=split_area, label_num_dict=label_num_dict)\n",
    "        \n",
    "    return perform_dict, name_list, predict_result,"
   ]
  },
  {
   "cell_type": "markdown",
   "id": "44b587d9",
   "metadata": {},
   "source": [
    "## Calling the method.\n",
    "Call the above method within the `main()` function to prevent multithreading issues.\n",
    "<br>Define a `config` instance and pass parameters through `predict`.\n",
    "<br>The running result will be displayed as follows, and the prediction files will be saved to the target directory, which can be modified in the `config`."
   ]
  },
  {
   "cell_type": "code",
   "execution_count": 8,
   "id": "ecae6f64",
   "metadata": {},
   "outputs": [
    {
     "name": "stdout",
     "output_type": "stream",
     "text": [
      "using CPU training\n",
      "------start to predict--------\n",
      "Predict result is saved to --> ../Data/predict_result/input_sample_ESM_06131214.csv\n",
      "-------------Show predict result---------------\n",
      "entry_name           predict EC number\n",
      "A0A067YMX8           2.4.1.207\n",
      "A0A0K3AV08           2.7.11.1\n",
      "A0A1D6K6U5           5.5.1.13\n",
      "A1XSY8           2.3.2.27\n",
      "A1ZA55           2.7.7.-\n",
      "A2A5Z6           2.3.2.26\n",
      "A2CEI6           3.1.26.-\n",
      "A2TK72           3.4.24.-\n",
      "A3KPQ7           3.2.1.35\n",
      "A4FUD9           3.6.4.12\n",
      "----------------------------------------------\n"
     ]
    }
   ],
   "source": [
    "if __name__ == '__main__':\n",
    "    config = Config()\n",
    "    print(\"------start to predict--------\")\n",
    "    predict(config)"
   ]
  },
  {
   "cell_type": "code",
   "execution_count": null,
   "id": "9eed1d61",
   "metadata": {},
   "outputs": [],
   "source": []
  }
 ],
 "metadata": {
  "kernelspec": {
   "display_name": "jupyter_py375",
   "language": "python",
   "name": "jupyter_py375"
  },
  "language_info": {
   "codemirror_mode": {
    "name": "ipython",
    "version": 3
   },
   "file_extension": ".py",
   "mimetype": "text/x-python",
   "name": "python",
   "nbconvert_exporter": "python",
   "pygments_lexer": "ipython3",
   "version": "3.7.5"
  }
 },
 "nbformat": 4,
 "nbformat_minor": 5
}
