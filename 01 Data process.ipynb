{
 "cells": [
  {
   "cell_type": "markdown",
   "id": "7709abba",
   "metadata": {},
   "source": [
    "# 01 Data Process\n",
    "This document will describe how the input data should be processed before using GloEC. Below, we will illustrate with `input_sample` as the test data."
   ]
  },
  {
   "cell_type": "markdown",
   "id": "460bb419",
   "metadata": {},
   "source": [
    "## Import the necessary packages\n",
    "`config_util.py` is sourced from the provided source files, containing all the hyperparameters or file paths needed during runtime.\n",
    "<br>`pandas` is used to read CSV files.\n",
    "<br>`torch` is used to convert data into tensors for GloEC to utilize."
   ]
  },
  {
   "cell_type": "code",
   "execution_count": 2,
   "id": "dde55fd2",
   "metadata": {},
   "outputs": [],
   "source": [
    "from config_util import Config\n",
    "import pandas as pd\n",
    "import torch"
   ]
  },
  {
   "cell_type": "markdown",
   "id": "af8c31af",
   "metadata": {},
   "source": [
    "## Input file reading\n",
    "We have stored the source files in the following `root` directory and named them as input_sample. The source files are saved using the `.csv` format, which is convenient for visualization outside of the code. We recommend users to similarly process their source files into `.csv` format. Secondly, we use the pandas package to read the source files. For demonstration purposes, we have included `encoding=\"GB2312\"`.\n",
    "<br>The source files consist of Entry lists, Sequence lists, and EC number lists. The Entry list represents the entry numbers in the UniProt database."
   ]
  },
  {
   "cell_type": "code",
   "execution_count": 3,
   "id": "7f204b8d",
   "metadata": {},
   "outputs": [
    {
     "data": {
      "text/html": [
       "<div>\n",
       "<style scoped>\n",
       "    .dataframe tbody tr th:only-of-type {\n",
       "        vertical-align: middle;\n",
       "    }\n",
       "\n",
       "    .dataframe tbody tr th {\n",
       "        vertical-align: top;\n",
       "    }\n",
       "\n",
       "    .dataframe thead th {\n",
       "        text-align: right;\n",
       "    }\n",
       "</style>\n",
       "<table border=\"1\" class=\"dataframe\">\n",
       "  <thead>\n",
       "    <tr style=\"text-align: right;\">\n",
       "      <th></th>\n",
       "      <th>Entry</th>\n",
       "      <th>Sequence</th>\n",
       "      <th>EC number</th>\n",
       "    </tr>\n",
       "  </thead>\n",
       "  <tbody>\n",
       "    <tr>\n",
       "      <th>0</th>\n",
       "      <td>A0A067YMX8</td>\n",
       "      <td>MAASPYSIFAVQLLLLASWMLSSSSSNFNQDFNIAWGGGRARILNN...</td>\n",
       "      <td>2.4.1.207</td>\n",
       "    </tr>\n",
       "    <tr>\n",
       "      <th>1</th>\n",
       "      <td>A0A0K3AV08</td>\n",
       "      <td>MEQASVPSYVNIPPIAKTRSTSHLAPTPEHHRSVSYEDTTTASTST...</td>\n",
       "      <td>2.7.11.25</td>\n",
       "    </tr>\n",
       "    <tr>\n",
       "      <th>2</th>\n",
       "      <td>A0A1D6K6U5</td>\n",
       "      <td>MVLSSSCTTVPHLSSLAVVQLGPWSSRIKKKTDAVAVPAAAGRWRA...</td>\n",
       "      <td>5.5.1.13</td>\n",
       "    </tr>\n",
       "    <tr>\n",
       "      <th>3</th>\n",
       "      <td>A1XSY8</td>\n",
       "      <td>MMTAKAVDKIPVTLSGFVHQLSDNIYPVEDLAATSVTIFPNAELGS...</td>\n",
       "      <td>2.3.2.-</td>\n",
       "    </tr>\n",
       "    <tr>\n",
       "      <th>4</th>\n",
       "      <td>A1ZA55</td>\n",
       "      <td>MAMNLENIVNQATAQYVKIKEHREPYTAHYNALKDKVYSEWKSSAV...</td>\n",
       "      <td>2.7.7.-</td>\n",
       "    </tr>\n",
       "    <tr>\n",
       "      <th>5</th>\n",
       "      <td>A2A5Z6</td>\n",
       "      <td>MSNPGGRRNGPVKLRLTVLCAKNLVKKDFFRLPDPFAKVVVDGSGQ...</td>\n",
       "      <td>2.3.2.26</td>\n",
       "    </tr>\n",
       "    <tr>\n",
       "      <th>6</th>\n",
       "      <td>A2CEI6</td>\n",
       "      <td>MDPKRPTFPSPPGVIRAPWQQSTEDQSQLLDQPSLGRARGLIMPID...</td>\n",
       "      <td>3.1.26.-</td>\n",
       "    </tr>\n",
       "    <tr>\n",
       "      <th>7</th>\n",
       "      <td>A2TK72</td>\n",
       "      <td>KREAEANRTPEQQIYDPYKYVETVFVVDKAMVTKYNGDLDKIKTRM...</td>\n",
       "      <td>3.4.24.-</td>\n",
       "    </tr>\n",
       "    <tr>\n",
       "      <th>8</th>\n",
       "      <td>A3KPQ7</td>\n",
       "      <td>MQVNDGPSSHPIFVAPVNGNAQRSSGYVPGRIVPVRSPPPAKAPPP...</td>\n",
       "      <td>3.2.1.35</td>\n",
       "    </tr>\n",
       "    <tr>\n",
       "      <th>9</th>\n",
       "      <td>A4FUD9</td>\n",
       "      <td>MAGTVVLDDVELREAQRDYLDFLDDEEDQGIYQSKVRELISDNQYR...</td>\n",
       "      <td>3.6.4.12</td>\n",
       "    </tr>\n",
       "  </tbody>\n",
       "</table>\n",
       "</div>"
      ],
      "text/plain": [
       "        Entry                                           Sequence  EC number\n",
       "0  A0A067YMX8  MAASPYSIFAVQLLLLASWMLSSSSSNFNQDFNIAWGGGRARILNN...  2.4.1.207\n",
       "1  A0A0K3AV08  MEQASVPSYVNIPPIAKTRSTSHLAPTPEHHRSVSYEDTTTASTST...  2.7.11.25\n",
       "2  A0A1D6K6U5  MVLSSSCTTVPHLSSLAVVQLGPWSSRIKKKTDAVAVPAAAGRWRA...   5.5.1.13\n",
       "3      A1XSY8  MMTAKAVDKIPVTLSGFVHQLSDNIYPVEDLAATSVTIFPNAELGS...    2.3.2.-\n",
       "4      A1ZA55  MAMNLENIVNQATAQYVKIKEHREPYTAHYNALKDKVYSEWKSSAV...    2.7.7.-\n",
       "5      A2A5Z6  MSNPGGRRNGPVKLRLTVLCAKNLVKKDFFRLPDPFAKVVVDGSGQ...   2.3.2.26\n",
       "6      A2CEI6  MDPKRPTFPSPPGVIRAPWQQSTEDQSQLLDQPSLGRARGLIMPID...   3.1.26.-\n",
       "7      A2TK72  KREAEANRTPEQQIYDPYKYVETVFVVDKAMVTKYNGDLDKIKTRM...   3.4.24.-\n",
       "8      A3KPQ7  MQVNDGPSSHPIFVAPVNGNAQRSSGYVPGRIVPVRSPPPAKAPPP...   3.2.1.35\n",
       "9      A4FUD9  MAGTVVLDDVELREAQRDYLDFLDDEEDQGIYQSKVRELISDNQYR...   3.6.4.12"
      ]
     },
     "execution_count": 3,
     "metadata": {},
     "output_type": "execute_result"
    }
   ],
   "source": [
    "root = '../Data/input_sample/'\n",
    "pd.read_csv(root + \"input_sample.csv\", encoding=\"GB2312\")"
   ]
  },
  {
   "cell_type": "markdown",
   "id": "7a13017c",
   "metadata": {},
   "source": [
    "## FASTA file\n",
    "The processed source files need to be formatted into `.fasta` format for subsequent use. FASTA format is a text format used to record nucleotide sequences or peptide sequences, where nucleotides or amino acids are represented by single-letter codes. This format also allows the definition of names and writing comments before sequences. Formatting into `.fasta` format is not difficult; here, I won't go into too much detail."
   ]
  },
  {
   "cell_type": "code",
   "execution_count": 4,
   "id": "21b7ff87",
   "metadata": {},
   "outputs": [
    {
     "name": "stdout",
     "output_type": "stream",
     "text": [
      ">A0A067YMX8\n",
      "MAASPYSIFAVQLLLLASWMLSSSSSNFNQDFNIAWGGGRARILNNGELVTLSLDKASGSGFRSKNLYLFGKIDMQLKLVPGNSAGTVTTYYLSSEGSVRDEIDFEFLGNLTGEPYTLHTNVYSHGKGEREQQFRLWFDPAADFHTYSILWNSKTIVFYVDQTPVREFKNMESIGVPYLRQPMRLFSSIWNADEWATRGGLIKTDWTQAPFTTSYRNFRADNACVWAAKASSCGLAAGGNAWLSVELDAKSRGRLRWVRRNQMIYDYCVDGKRFPRGVPPECKLNLHI\n",
      ">A0A0K3AV08\n",
      "MEQASVPSYVNIPPIAKTRSTSHLAPTPEHHRSVSYEDTTTASTSTDSVPEVRIRSESSQVSRESPPIRASKAFVASYEYEAQKDDELNLPLGAIITLVTVETNEDGWYRGELNGKVGLFPSNYAREVTYKDNLVEFKQDEIMLPVAVRTLSDCQIGHGATATVFKMDIKIKKELQNGRMGEAVGDQMKAALKRFNRHASNFRADVVSTDEQLEQLKREANLVNGLSHNNIVRLLGICLEDPYFGLLLELCEGSSLRNVCRNLNSDAAIPLGVLIDWATQVAEGMEYLTKQGYVHRDLKADNVLVKEEVCLCMDEEMFQYAYCLKCGKRPFDKLQLKITDFGVTRKMTADANRFSTAGTYAWLAPEAFKEGTWSEASDVWSYGVVLWELLTREEPYQGHIPATIAFQIANKGQNLSIGDSCPDRWKKLMQDCWNLEPNFRPKFSTLAISFKQYAKEFKDTHLQRAPSKMAVKELYSECFADKTKEEFEKRFHDLYAGSGDINRKNRHSIAPETKARRLKHHKPKKADITGPTEVKHILSVQKDDKNFRVKTYDQSSTGGTLPRLNERQSTLSLSSPDLFHISNLISGSNTVGHSAHRISRKNAIRHKKNQHRMFESPVVSPTMDDSNTFSTIDNADEVDPNHSKESKKGGTLSRAWAKLPWNKRDSKEDHDERAVAGSISSRSSSTTSSNRLITGQTTRGASAAGLLEIGARSRAQSTADGWEDPNTTKKHKVSPSDKRPVKTTNQTERYVKDLEKDTPLRPAQLPPTHRKSALDQTIPASPNSPDSINNFHPMPLSSRRTTANSSSDGAPCYDALVSHSYGAGHGHKNHFGLSDTIPLFPEEPTHYDMGPGRPFGTNGRAIVNQGGDYYGNISGQNYEGFGHGRSINQSTQYYPVGGGCDDYIPIVQKTVIKPTVGEVGNSPYSENIRCATRNVQNPQYIQCKKNQNPRRIPALPMKIQSESNLVTSGMVFTPRDEQLNGIGNSLSSLSLNEPPDIPAPLPPVVTYPIPASLISPSNRVSMSPPTRMAPVLPLGAMSSPRIMDKEILKNSSVEGTEIY\n",
      ">A0A1D6K6U5\n",
      "MVLSSSCTTVPHLSSLAVVQLGPWSSRIKKKTDAVAVPAAAGRWRARARAQDTSESAAVAKGSSLTPIVRTDAESRRTRWPTDDDDAEPLVDEIRAMLTSMSDGDISVSAYDTAWVGLVPRLDGGEGPQFPAAVRWIRNNQLPDGSWGDAALFSAYDRLINTLACVVTLTRWSLEPEMRGRGLSFLGRNMWKLATEDEESMPIGFELAFPSLIELAKSLGVHDFPYDHQALQAIYSSREIKVKRIPKEVMHTVPTSILHSLEGMPGLDWARLLKLQSSDGSFLFSPAATAYALMNTGDDRCFSYIDRTVKKFNGGVPNVYPVDLFEHIWAVDRLERLGISRYFQKEIEQCMDYVNRHWTEDGICWARNSDVKEVDDTAMAFRLLRLHGYSVSPDVFKNFEKDGEFFAFVGQSNQAVTGMYNLNRASQISFPGEDVLHRAGPFSYEFLRRKQAEGALRDKWIISKDLPGEVVYTLDFPWYGNLPRVEARDYLEQYGGGDDVWIGKTLYRMPLVNNDVYLELARMDFNHCQALHQLEWQGLKKWYTENRLMDFGVAQEDALRAYFLAAASVYEPCRAAERLAWARAAILANAVSTHLRNSPSFRERLEHSLRCRPSEETDGSWFNSSSGSDAVLVKAVLRLTDSLAREAQPIHGGDPEDIHKLLRSAWAEWVREKADAADSVCNGSSAVEQEGSRMVHDKQTCLLLARMIEISAGRAAGEAASEDGDRRIIQLTGSICDSLKQKMLVSQDPEKNEEMMSHVDDELKLRIREFVQYLLRLGEKKTGSSETRQTFLSIVKSCYYAAHCPPHVVDRHISRVIFEPVSAAK\n",
      ">A1XSY8\n",
      "MMTAKAVDKIPVTLSGFVHQLSDNIYPVEDLAATSVTIFPNAELGSPFDQMNGVAGDGMINIDMTGEKRSLDLPYPSSFAPVSAPRNQTFTYMGKFSIDPQYPGASCYPEGIINIVSAGILQGVTSPASTTASSNVTSASPNPLATGPLGVCTMSQTQPDLDHLYSPPPPPPYSGCAGDLYQDPSAFLSAATTSTSSSLAYPPPPSYPSPKPATDPGLFPMIPDYPGFFPSQCQRDLHGTAGPDRKPFPCPLDSLRVPPPLTPLSTIRNFTLGGPSAGTTGPGASGGSEGPRLPGSSAAAAAAAYNPHHLPLRPILRPRKYPNRPSKTPVHERPYPCPAEGCDRRFSRSDELTRHIRIHTGHKPFQCRICMRNFSRSDHLTTHIRTHTGEKPFACDYCGRKFARSDERKRHTKIHLRQKERKSSAPSSSVPAASTASCTGGAQPGGPLCSSNSSTIGGGSLGPCSSRTRTP\n",
      ">A1ZA55\n",
      "MAMNLENIVNQATAQYVKIKEHREPYTAHYNALKDKVYSEWKSSAVLGKLLKGSTLCGGYGDKLKVSIPDEFDLLIHLVFPENDKIIVKADASKPGNVILDMTKVMEIIGSQEHNKPVFDRLQKIVNNKKQLLEDKLNSFLESIMTQTLNKMGNQIEVAGRISHLQYKKCGPAHTIFVKGSCKYSVDFVPAIRLSAAQVVLAPEQRIHFGETLYWDAIPKPMKPAKTDNTSFTSSFYEAERRLLYGKQFLKPAIRLMKQNRNVKNKANLKSYHIKTLFLWQVIQQDPSYWSNSPKDIFIEMLGKLADSLALTPKKGKLPFFWDPKLDMFAQLTDSQRTDLYNHFRKCEYTFRKDNGNVNDCTENNVHSSFSKNTTYKL\n",
      ">A2A5Z6\n",
      "MSNPGGRRNGPVKLRLTVLCAKNLVKKDFFRLPDPFAKVVVDGSGQCHSTDTVKNTLDPKWNQHYDLYIGKSDSVTISVWNHKKIHKKQGAGFLGCVRLLSNAINRLKDTGYQRLDLCKLGPNDNDTVRGQIVVSLQSRDRIGTGGQVVDCSRLFDNDLPDGWEERRTASGRIQYLNHITRTTQWERPTRPASEYSSPGRPLSCFVDENTPITGTNGATCGHSSDPRLAERRVRSQRHRNYMSRTHLHTPPDLPEGYEQRTTQQGQVYFLHTQTGVSTWHDPRVPRDLSNINCEELGPLPPGWEIRNTATGRVYFVDHNNRTTQFTDPRLSANLHLVLNRQNQLKDQQQQQVVPLCPDDTECLTVPRYKRDLVQKLKILRQELSQQQPQAGHCRIEVSREEIFEESYRQVMKMRPKDLWKRLMIKFRGEEGLDYGGVAREWLYLLSHEMLNPYYGLFQYSRDDIYTLQINPDSAVNPEHLSYFHFVGRIMGMAVFHGHYIDGGFTLPFYKQLLGKSITLDDMELVDPDLHNSLVWILENDITGVLDHTFCVEHNAYGEIIQHELKPNGKSIPVTEENKKEYVRLYVNWRFLRGIEAQFLALQKGFNEVIPQHLLKTFDEKELELIICGLGKIDVSDWKVNTRLKHCTPDSNVVKWFWKAVEFFDEERRARLLQFVTGSSRVPLQGFKALQGAAGPRLFTIHQIDACTNNLPKAHTCFNRIDIPPYESYEKLYEKLLTAIEETCGFAVE\n",
      ">A2CEI6\n",
      "MDPKRPTFPSPPGVIRAPWQQSTEDQSQLLDQPSLGRARGLIMPIDEPLPGRGRAFSVPGEMPVRFGRGITQSIAAEPLVGMARGVRLPMEEGGFGRGRGFLLPTPEPTVGIGRGAAIGPVPTLDIQKAEVEEKMPELQAEVAPTVAKVGSPGTGSSLVSMFRGLGIEPGKTWGRGAAPVGRGAAGDMGADLQPKPTIIGASLTPEREEVRSEESISFLGRGFTGFGRAAMPHMTVGRGPIGPLSPSPSVAAPFSLISASSASEDAPVAPGTPPKVEVKIETVKEPLQKIGTKGSPIPIGSNYIPICCKNDAVFQYHVTFTPNVESLSMRFGMMKEHRPTTGEVVAFDGSILYLPKRLEEVVHLKAERKTDNQEIDIKIQLTKILPPSSDLCIPFYNVVLRRVMKILGLKLVGRNHYDPNAVVILGKHRLQVWPGYSTSIKHTDGGLYLVVDVSHKVLRNDSVLDVMNLIYQGSRESFQDECTKEFVGSIVITRYNNRTYRIDDIEWSKSPKDTFTLADGSVTTFVDYYRKNYGITIKELDQPLLIHRPKERSRPGGKVITGEILLLPELSFMTGIPEKMRKDFRAMKDLTMHINVGAQQHTQSLKQLLHNINSNNEALSELGRWGLSISQEILVTQGRTLPSETICLHSASFVTSPAVDWSRELVRDPSISTVPLNCWAVFYPRRATDQAEELVTTFSRVAGPMGMRVERPIRVELRDDRTETFVKSIHSQLTSEPRVQLVVCIMTGNRDDLYSAIKKLCCIQSPVPSQAINVRTISQPQKLRSVAQKILLQINCKLGGELWTVNVPLKYLMVIGVDVHHDTSKKSRSVMGFVASLNSMLTKWYSRVTFQMPNEEIINGFRVCLLAALQKYYEVNHAFPEKIVIYRDGVSDGQLKTVEHYEIPQILKCFETIPNYEPKLAFIVVQKRISTTLYSYGSDHFGTPSPGTVLDHTVTNRDWVDFYLMAHSIRQGCGLPTHYITVYNTANLTPDHLQRLTFKMCHLYWNWPGTIRVPAPCKYAHKLAFLSGQYLHSEPAIQLSEKLFFL\n",
      ">A2TK72\n",
      "KREAEANRTPEQQIYDPYKYVETVFVVDKAMVTKYNGDLDKIKTRMYEAANNMNEMYRYMFFRVVMVGLIIWTEEDKITVKPDVDYTLNAFAEWRKTYLLAEKKHDNAQLITGIDFRGSIIGYAYIGSMCHPKRSVGIIQDYSPINLVLAVIMAHEMGHNLGIHHDDGYCYCGGYPCIMGPSISPEPSKFFSNCSYIQCWDFIMNHNPECIDNEPLGTDIISPPLCGNELLEA\n",
      ">A3KPQ7\n",
      "MQVNDGPSSHPIFVAPVNGNAQRSSGYVPGRIVPVRSPPPAKAPPPPPLKPPVPPPARPSVFNLSEDGNRREQAQNQQRKNTYICVGIFFGIFLLILILVLSLTSKDVLDENCPHQNPALRSWKPGHDLKKVVVIHSGEHYRLDSSATLYSITIQAGGSVVFADDKKGSKNITLRTRHILIEDGGALHIGAPKCRYRSLATITLVGRSDETAVTEVPGMGRKFLGVNSGGTLELHGSERMSWTFLTRTVPASGLATGDHAFQKNFSRGINLRVVDQDTAEVLVNERFDTHESQDDSKRLGELLKALPAGRIVALATGDSAVKNLVFETKQTIHDLLGSNYISDLKYRDAWALVSVIGGGNGSCTEDVREHENHDTGGKALARQDFFTVDGVGFTVTAYSEWSNGYPTTGFQVDAVDKVVLNLQDDVSSWNPGDRIVVASTDYSMYQAEEFTLLPCPNCNRKQVQIQGKPQFSHVGEILDGVDMRAEVALLSRNILIHGEMENSCYGGNWCQYFSYDTFGGHIKILGNFTSVHLSHIELKHMGQQREKGRYPLNFHRCGDVDQSGGYSNPAYVDSLSIHHSFSRCVTVHATNGLLVKDTVGYDTLGHCFFLKDGIEQRNIFFHNLGLLTRPGTILPTDRNDSMCTEITDRVYKGYIPIPANECKAVSSFWIAHPNNHLISNSAAGSQDAGIWYVFHNSSTGDSHGMISETKAELTPLGTFFNNRVHSNFKAGLFIDRKVKSTNATAADPREYLCLDNSARFRPHESSDPSRPRVAAIIDTLISFKNNDLGAWIRGGDIIIRNSGDGSYPKDEGSSQEVSQSLFIGESRNRGTNGGQNKYWGIGGVDGKMRTLPRNKTFPIRGFQINDGPVRIFDSTFRAFSPTADRFTMAVGFSLKNIWQLTPRNNLSALAFHPSVTLRAFFGRPGDWFEQNDLDGDKNSIFHDLDGSISGYADTYVARADNFLIRHPQCVDMPQWNGVVCSGKYSQVYIQTQAASNLSLSISRDEYPDKPMVLRGIRTKTSPSQQYQPVLMMGKSYTMHWNGPAPRETVLSLINFDQDDWALLGLCYPNETVFQITSDIYNKQNNGFEGIEDYGPVTSIADLEKRQQERKYFFDKSAGLLWLYARARHRRDGNSYCSSAGCERVKIIATIRANQKTETCNCTANAYPKYSKPASNIVPMPKPNTEPCGACGASQFAFSSDPWNSYLQTQIKSLSVKEEQDNDTQAYITVNAQRFDLSQSGFLLVTVDACSGKVTKNSMFSSLDTKMEQFFKTGIMKRSIVLLATRGQPASFAGVAQYLESLGSAKTPDLQNKVAIAFFGFLGQGGPSPQPWSTLLTCQGAKILGLQERFIPLSLEEYSCPPKKDSPTRMDLELLKKIS\n",
      ">A4FUD9\n",
      "MAGTVVLDDVELREAQRDYLDFLDDEEDQGIYQSKVRELISDNQYRLIVNVNDLRRKNEKRANRLLSNAFEELVAFQRALKDFVASIDATYAKQYEEFYIGLEGSFGSKHVSPRTLTSCFLSCVVCVEGIVTKCSLVRPKVVRSVHYCPATKKTIERRYSDLTSLVAFPSSSVYPTKDEENNPLETEYGLSVYKDHQIITIQEMPEKAPAGQLPRSVDVILDDDLVDRVKPGDRVQVVGTYRCLPGKKGGYTSGTFRTVLIACNVKQMSKDVQPSFSAEDIAKIKKFSKTRSKDIFDQLARSLAPSIHGHDYVKKAILCLLLGGVERDLENGSHIRGDINILLIGDPSVAKSQLLRYVLCTAPRAIPTTGRGSSGVGLTAAVTTDQETGERRLEAGAMVLADRGVVCIDEFDKMSDMDRTAIHEVMEQGRVTIAKAGIHARLNARCSVLAAANPVYGRYDQYKTPMENIGLQDSLLSRFDLLFIMLDQMDPEQDREISDHVLRMHRYRAPGEQDGDAMPLGSAVDILATDDPNFSPDDQQDTQIYEKHDNLLHGIKKKKEKMVSAAFMRKYIHVAKIIKPVLTQESAAYIAEEYSRLRSQDSMSSDTARTSPVTARTLETLIRLATAHAKARMSKTVDLQDAEEAVELVQYAYFKKVLEKEKKRKKRSEDESDAEDEVEKSQEDQEQKTKRRRICPSDAKEGDSYDPYDFTNTEEEMPQVHTPKATDSQETKESQKVELSESRLKAFKAALLEVFREAHAQSVGMNRLTESVNRDNEEPFSSAEIQAALSRMQDDNQVMVSEGIVFLI\n"
     ]
    }
   ],
   "source": [
    "with open(root + 'input_sample.fasta', 'r') as file:\n",
    "    for lineID, line in enumerate(file):\n",
    "        print(line[:-1])\n"
   ]
  },
  {
   "cell_type": "markdown",
   "id": "f152bd9c",
   "metadata": {},
   "source": [
    "## Obtaining ESM embeddings\n",
    "ESM-1b is a large-scale protein language model based on the Transformer architecture. It has been pre-trained on a vast amount of unannotated protein sequences. The obtained ESM embeddings facilitate downstream tasks such as enzyme function prediction, making it convenient for readers to perform tasks like classification. ESM-1b is open-source, and users only need to submit the mentioned `.fasta` sequences to obtain the corresponding embedding files. Once the embedding files are packaged, users can utilize GloEC for predictions."
   ]
  },
  {
   "cell_type": "code",
   "execution_count": 5,
   "id": "8694fa8d",
   "metadata": {},
   "outputs": [
    {
     "name": "stdout",
     "output_type": "stream",
     "text": [
      "torch.Size([10, 1280])\n",
      "-----------detail--------------\n",
      "tensor([-0.0317,  0.1434,  0.1174,  ..., -0.0356,  0.0135, -0.0783])\n",
      "tensor([-0.0093,  0.1870, -0.0409,  ...,  0.0302, -0.0700,  0.2251])\n",
      "tensor([-0.2415,  0.1000,  0.2506,  ...,  0.0966, -0.0440,  0.1334])\n",
      "tensor([ 0.0399,  0.2734,  0.0106,  ..., -0.0436, -0.0718,  0.1517])\n",
      "tensor([-0.0444,  0.1305, -0.1353,  ..., -0.1114, -0.2894, -0.0029])\n",
      "tensor([-0.0412,  0.1405,  0.1725,  ..., -0.0949, -0.1410, -0.0593])\n",
      "tensor([-0.0757,  0.2825,  0.0841,  ..., -0.1310, -0.0524,  0.1540])\n",
      "tensor([ 0.0464,  0.2468,  0.0159,  ..., -0.0729, -0.1199, -0.0078])\n",
      "tensor([0.0278, 0.2378, 0.0902,  ..., 0.0890, 0.0183, 0.0597])\n",
      "tensor([-0.0605,  0.2491,  0.0573,  ..., -0.0993, -0.0678,  0.0439])\n"
     ]
    }
   ],
   "source": [
    "esm_tensor = torch.load(root + 'input_sample.pt')\n",
    "print(esm_tensor.size())\n",
    "print(\"-----------detail--------------\")\n",
    "for i in range(len(esm_tensor)):\n",
    "    print(esm_tensor[i])\n",
    "    "
   ]
  },
  {
   "cell_type": "markdown",
   "id": "96f53a68",
   "metadata": {},
   "source": [
    "## Hyperparameters\n",
    "The `.config` file contains the hyperparameters that may be needed. `batch_size` represents the batch size, `start_lr` represents the initial learning rate, `lambda` represents the degree of exponential decay of the learning rate, and so on. Readers can find more hyperparameters in the `config_util.py` source file."
   ]
  },
  {
   "cell_type": "code",
   "execution_count": 6,
   "id": "cd1172b1",
   "metadata": {},
   "outputs": [
    {
     "name": "stdout",
     "output_type": "stream",
     "text": [
      "using CPU training\n",
      "----------- Display hyperparameter ------------\n",
      "batch_size: 256\n",
      "start lr: 0.001\n",
      "landa: 0.8\n",
      "epoch: 300\n",
      "use_hierar_penalty: True\n",
      "use_GCN: True\n",
      "gcn_layer: 3\n",
      "--------------------------------- ------------\n"
     ]
    }
   ],
   "source": [
    "config = Config()\n",
    "def show_config(config):\n",
    "    print(\"----------- Display hyperparameter ------------\")\n",
    "    print('batch_size: ' + str(config.batch_size))\n",
    "    print('start lr: ' + str(config.learning_rate))\n",
    "    print('landa: ' + str(config.landa))\n",
    "    print('epoch: ' + str(config.epoch))\n",
    "    print('use_hierar_penalty: ' + str(config.use_hierar_penalty))\n",
    "    print('use_GCN: ' + str(config.use_GCN))\n",
    "    print('gcn_layer: ' + str(config.gcn_layer))\n",
    "    print(\"--------------------------------- ------------\")\n",
    "    \n",
    "show_config(config)"
   ]
  },
  {
   "cell_type": "code",
   "execution_count": null,
   "id": "e1c8960f",
   "metadata": {},
   "outputs": [],
   "source": []
  }
 ],
 "metadata": {
  "kernelspec": {
   "display_name": "jupyter_py375",
   "language": "python",
   "name": "jupyter_py375"
  },
  "language_info": {
   "codemirror_mode": {
    "name": "ipython",
    "version": 3
   },
   "file_extension": ".py",
   "mimetype": "text/x-python",
   "name": "python",
   "nbconvert_exporter": "python",
   "pygments_lexer": "ipython3",
   "version": "3.7.5"
  }
 },
 "nbformat": 4,
 "nbformat_minor": 5
}
